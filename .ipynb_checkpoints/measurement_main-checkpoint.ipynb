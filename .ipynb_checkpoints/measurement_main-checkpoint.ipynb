{
 "cells": [
  {
   "cell_type": "code",
   "execution_count": 1,
   "metadata": {},
   "outputs": [
    {
     "data": {
      "application/javascript": [
       "\n",
       "try {\n",
       "require(['notebook/js/codecell'], function(codecell) {\n",
       "  codecell.CodeCell.options_default.highlight_modes[\n",
       "      'magic_text/x-csrc'] = {'reg':[/^%%microblaze/]};\n",
       "  Jupyter.notebook.events.one('kernel_ready.Kernel', function(){\n",
       "      Jupyter.notebook.get_cells().map(function(cell){\n",
       "          if (cell.cell_type == 'code'){ cell.auto_highlight(); } }) ;\n",
       "  });\n",
       "});\n",
       "} catch (e) {};\n"
      ]
     },
     "metadata": {},
     "output_type": "display_data"
    },
    {
     "data": {
      "application/javascript": [
       "\n",
       "try {\n",
       "require(['notebook/js/codecell'], function(codecell) {\n",
       "  codecell.CodeCell.options_default.highlight_modes[\n",
       "      'magic_text/x-csrc'] = {'reg':[/^%%pybind11/]};\n",
       "  Jupyter.notebook.events.one('kernel_ready.Kernel', function(){\n",
       "      Jupyter.notebook.get_cells().map(function(cell){\n",
       "          if (cell.cell_type == 'code'){ cell.auto_highlight(); } }) ;\n",
       "  });\n",
       "});\n",
       "} catch (e) {};\n"
      ]
     },
     "metadata": {},
     "output_type": "display_data"
    }
   ],
   "source": [
    "from pynq import Overlay\n",
    "from pynq.lib import AxiGPIO\n",
    "ol = Overlay(\"./overlays/CICADA_N_CLAIRE.bit\")"
   ]
  },
  {
   "cell_type": "markdown",
   "metadata": {},
   "source": [
    "# My Functions"
   ]
  },
  {
   "cell_type": "code",
   "execution_count": 2,
   "metadata": {},
   "outputs": [],
   "source": [
    "import ldo\n",
    "import dut_spi\n",
    "import adt7430\n",
    "import initialize_ldo_claire01\n",
    "import ldo_claire01\n",
    "import initialize_dut_claire01\n",
    "import controls"
   ]
  },
  {
   "cell_type": "markdown",
   "metadata": {},
   "source": [
    "## Query Custom Overlay Info."
   ]
  },
  {
   "cell_type": "code",
   "execution_count": 3,
   "metadata": {},
   "outputs": [],
   "source": [
    "ol?"
   ]
  },
  {
   "cell_type": "markdown",
   "metadata": {},
   "source": [
    "## Initialization (LDO, DUT SPI)"
   ]
  },
  {
   "cell_type": "code",
   "execution_count": 3,
   "metadata": {},
   "outputs": [],
   "source": [
    "initialize_ldo_claire01.all_zero()"
   ]
  },
  {
   "cell_type": "code",
   "execution_count": 4,
   "metadata": {},
   "outputs": [
    {
     "name": "stdout",
     "output_type": "stream",
     "text": [
      "Target board: 0  ||Addr.: 0  ||Voltage: 100.0 mV\n",
      "Target board: 0  ||Addr.: 1  ||Voltage: 380.0 mV\n",
      "Target board: 0  ||Addr.: 2  ||Voltage: 450.0 mV\n",
      "Target board: 0  ||Addr.: 3  ||Voltage: 2500.0 mV\n",
      "WARINING: input voltage EXCEEDS the VREF level of the ldo board!\n",
      "Target board: 0  ||Addr.: 4  ||Voltage: 380.0 mV\n",
      "Target board: 0  ||Addr.: 5  ||Voltage: 400.0 mV\n",
      "Target board: 0  ||Addr.: 6  ||Voltage: 400.0 mV\n",
      "Target board: 0  ||Addr.: 7  ||Voltage: 400.0 mV\n",
      "Target board: 1  ||Addr.: 0  ||Voltage: 400.0 mV\n",
      "Target board: 1  ||Addr.: 1  ||Voltage: 400.0 mV\n",
      "Target board: 1  ||Addr.: 2  ||Voltage: 400.0 mV\n",
      "Target board: 1  ||Addr.: 3  ||Voltage: 400.0 mV\n",
      "Target board: 1  ||Addr.: 4  ||Voltage: 370.0 mV\n",
      "Target board: 1  ||Addr.: 5  ||Voltage: 400.0 mV\n",
      "Target board: 1  ||Addr.: 6  ||Voltage: 300.0 mV\n",
      "Target board: 1  ||Addr.: 7  ||Voltage: 1000.0 mV\n"
     ]
    }
   ],
   "source": [
    "initialize_ldo_claire01.initialize_ldo() "
   ]
  },
  {
   "cell_type": "code",
   "execution_count": 4,
   "metadata": {},
   "outputs": [
    {
     "name": "stdout",
     "output_type": "stream",
     "text": [
      "Target board: 0  ||Addr.: 0  ||Voltage: 100.0 mV\n",
      "Target board: 0  ||Addr.: 1  ||Voltage: 500.0 mV\n",
      "Target board: 0  ||Addr.: 2  ||Voltage: 500.0 mV\n",
      "Target board: 0  ||Addr.: 3  ||Voltage: 2500.0 mV\n",
      "WARINING: input voltage EXCEEDS the VREF level of the ldo board!\n",
      "Target board: 0  ||Addr.: 4  ||Voltage: 500.0 mV\n",
      "Target board: 0  ||Addr.: 5  ||Voltage: 400.0 mV\n",
      "Target board: 0  ||Addr.: 6  ||Voltage: 500.0 mV\n",
      "Target board: 0  ||Addr.: 7  ||Voltage: 400.0 mV\n",
      "Target board: 1  ||Addr.: 0  ||Voltage: 400.0 mV\n",
      "Target board: 1  ||Addr.: 1  ||Voltage: 400.0 mV\n",
      "Target board: 1  ||Addr.: 2  ||Voltage: 400.0 mV\n",
      "Target board: 1  ||Addr.: 3  ||Voltage: 400.0 mV\n",
      "Target board: 1  ||Addr.: 4  ||Voltage: 400.0 mV\n",
      "Target board: 1  ||Addr.: 5  ||Voltage: 600.0 mV\n",
      "Target board: 1  ||Addr.: 6  ||Voltage: 300.0 mV\n",
      "Target board: 1  ||Addr.: 7  ||Voltage: 1000.0 mV\n"
     ]
    }
   ],
   "source": [
    "initialize_ldo_claire01.initialize_ldo_b2() "
   ]
  },
  {
   "cell_type": "code",
   "execution_count": 5,
   "metadata": {},
   "outputs": [
    {
     "name": "stdout",
     "output_type": "stream",
     "text": [
      "Addr: 0 || data:  00000000 sent\n",
      "Addr: 1 || data:  10000000 sent\n",
      "Addr: 2 || data:  11111111 sent\n",
      "Addr: 3 || data:  11000000 sent\n",
      "Addr: 4 || data:  11111111 sent\n",
      "Addr: 5 || data:  11110000 sent\n",
      "Addr: 6 || data:  00000000 sent\n",
      "Addr: 7 || data:  00000000 sent\n",
      "Addr: 8 || data:  00000000 sent\n",
      "Addr: 9 || data:  00000000 sent\n",
      "Addr: 10 || data:  10000000 sent\n",
      "Addr: 11 || data:  01010000 sent\n",
      "Addr: 12 || data:  00000000 sent\n",
      "Addr: 13 || data:  00000000 sent\n",
      "Addr: 14 || data:  00000000 sent\n",
      "Addr: 15 || data:  00000000 sent\n",
      "   commit spi data change addr0 to addr 15\n",
      "Addr: 127 || data:  10000000 sent\n",
      "Addr: 127 || data:  00000000 sent\n",
      "Addr: 16 || data:  10000011 sent\n",
      "Addr: 17 || data:  11111110 sent\n",
      "Addr: 18 || data:  01000000 sent\n",
      "Addr: 19 || data:  01000010 sent\n",
      "Addr: 20 || data:  01100000 sent\n",
      "Addr: 21 || data:  00100000 sent\n",
      "Addr: 22 || data:  11111111 sent\n",
      "Addr: 23 || data:  00001111 sent\n",
      "Addr: 24 || data:  00000000 sent\n",
      "Addr: 25 || data:  00000000 sent\n",
      "Addr: 26 || data:  00000000 sent\n",
      "Addr: 27 || data:  00000000 sent\n",
      "Addr: 28 || data:  00000000 sent\n",
      "Addr: 29 || data:  00000000 sent\n",
      "Addr: 30 || data:  00000000 sent\n",
      "Addr: 31 || data:  00000000 sent\n",
      "Addr: 32 || data:  00000000 sent\n",
      "Addr: 33 || data:  00000000 sent\n",
      "Addr: 34 || data:  00000000 sent\n",
      "Addr: 35 || data:  00000000 sent\n",
      "Addr: 36 || data:  00000000 sent\n",
      "Addr: 37 || data:  00000000 sent\n",
      "Addr: 38 || data:  00000000 sent\n",
      "Addr: 39 || data:  00000000 sent\n",
      "Addr: 40 || data:  00000000 sent\n",
      "Addr: 41 || data:  00000000 sent\n",
      "Addr: 42 || data:  00000000 sent\n",
      "Addr: 43 || data:  00000000 sent\n",
      "Addr: 44 || data:  00000000 sent\n",
      "Addr: 45 || data:  00000000 sent\n",
      "Addr: 46 || data:  00000000 sent\n",
      "Addr: 47 || data:  00000000 sent\n",
      "Addr: 48 || data:  00000000 sent\n",
      "Addr: 49 || data:  00000000 sent\n",
      "Addr: 50 || data:  00000000 sent\n",
      "Addr: 51 || data:  00000000 sent\n",
      "Addr: 52 || data:  00000000 sent\n",
      "Addr: 53 || data:  00000000 sent\n",
      "Addr: 54 || data:  00000000 sent\n",
      "Addr: 55 || data:  00000000 sent\n",
      "Addr: 56 || data:  10000010 sent\n",
      "Addr: 57 || data:  10001110 sent\n",
      "Addr: 58 || data:  10000110 sent\n",
      "Addr: 59 || data:  10001110 sent\n",
      "Addr: 60 || data:  10001110 sent\n",
      "Addr: 61 || data:  11110000 sent\n",
      "Addr: 62 || data:  00000000 sent\n",
      "Addr: 63 || data:  00000001 sent\n"
     ]
    }
   ],
   "source": [
    "initialize_dut_claire01.init()"
   ]
  },
  {
   "cell_type": "markdown",
   "metadata": {},
   "source": [
    "## Startup Function"
   ]
  },
  {
   "cell_type": "code",
   "execution_count": 24,
   "metadata": {},
   "outputs": [
    {
     "name": "stdout",
     "output_type": "stream",
     "text": [
      "enter the command 1) enable startup 0) disable startup : 0\n",
      "\n",
      "main osc startup function disabled!\n",
      "Addr: 55 || data:  00000000 sent\n",
      "Startup by switched capacitor disabled!\n",
      "\n",
      "disconnect clk_stup & GPIO3\n"
     ]
    }
   ],
   "source": [
    "controls.clk_stup()"
   ]
  },
  {
   "cell_type": "markdown",
   "metadata": {},
   "source": [
    "## LDO Modification with command "
   ]
  },
  {
   "cell_type": "code",
   "execution_count": 1,
   "metadata": {},
   "outputs": [],
   "source": [
    "#ldo.ldo_w_single_wc() # ldo write with command "
   ]
  },
  {
   "cell_type": "code",
   "execution_count": 19,
   "metadata": {},
   "outputs": [
    {
     "name": "stdout",
     "output_type": "stream",
     "text": [
      "Current voltage: 399.994mV   [brd num: 1 & addr.: 1]\n"
     ]
    },
    {
     "data": {
      "text/plain": [
       "399.9937743190662"
      ]
     },
     "execution_count": 19,
     "metadata": {},
     "output_type": "execute_result"
    }
   ],
   "source": [
    "ldo.read_single(1,1) #board0 addr0"
   ]
  },
  {
   "cell_type": "code",
   "execution_count": 85,
   "metadata": {},
   "outputs": [
    {
     "name": "stdout",
     "output_type": "stream",
     "text": [
      "CLAIRE01: Target Info.\n",
      "0)VCTL_KVCO_BASE 1)VDD_A_GL 2)VDDA_LDS 3)VDD_CHOP 4)VDD_CP 5)VDD \n",
      "6)VDD_DIV_LOGIC 7)VDD_BBPFD 8)VDD_DIV_LOGIC_TEST 9)VDD_GVCO_FIC 10)VDD_GVCO_CTAT\n",
      "11)VDD_CORE_DBUF 12)VDD03_TEST 13)VDD10_TEST\n",
      "Choose the target (0 ~ 13): 10\n",
      "\n",
      "Current voltage: 379.990mV   [brd num: 1 & addr.: 4]\n",
      "Current VDD_GVCO_CTAT value: 379.990mV\n",
      "Target voltage (e.g. 400.01 ==> 400.01mV): 400\n",
      "\n"
     ]
    }
   ],
   "source": [
    "ldo_claire01.change_core_supply_command()"
   ]
  },
  {
   "cell_type": "code",
   "execution_count": null,
   "metadata": {},
   "outputs": [],
   "source": [
    "# SPI Modification with command"
   ]
  },
  {
   "cell_type": "code",
   "execution_count": 28,
   "metadata": {},
   "outputs": [],
   "source": [
    "dut_spi.rst()"
   ]
  },
  {
   "cell_type": "code",
   "execution_count": 4,
   "metadata": {},
   "outputs": [
    {
     "name": "stdout",
     "output_type": "stream",
     "text": [
      "Addr: 11 || data:  00011001 sent\n"
     ]
    }
   ],
   "source": [
    "dut_spi.write_single(11,0,0,0,1,1,0,0,1)"
   ]
  },
  {
   "cell_type": "code",
   "execution_count": 27,
   "metadata": {},
   "outputs": [
    {
     "name": "stdout",
     "output_type": "stream",
     "text": [
      "target read addr.:5\n",
      "\n",
      "Addr: 5 || data:  11110000 read\n"
     ]
    },
    {
     "data": {
      "text/plain": [
       "'0b11110000'"
      ]
     },
     "execution_count": 27,
     "metadata": {},
     "output_type": "execute_result"
    }
   ],
   "source": [
    "dut_spi.read_wc() ## have to fix this weird output "
   ]
  },
  {
   "cell_type": "code",
   "execution_count": 192,
   "metadata": {},
   "outputs": [
    {
     "name": "stdout",
     "output_type": "stream",
     "text": [
      "target addr: 25\n",
      " \n",
      "0 th bit\n",
      "enter the value (1,0):0\n",
      "1 th bit\n",
      "enter the value (1,0):0\n",
      "2 th bit\n",
      "enter the value (1,0):0\n",
      "3 th bit\n",
      "enter the value (1,0):0\n",
      "4 th bit\n",
      "enter the value (1,0):0\n",
      "5 th bit\n",
      "enter the value (1,0):0\n",
      "6 th bit\n",
      "enter the value (1,0):0\n",
      "7 th bit\n",
      "enter the value (1,0):0\n",
      " \n",
      "Addr: 25 || data:  00000000 sent\n",
      "Addr: 127 || data:  10000000 sent\n",
      "Addr: 127 || data:  00000000 sent\n"
     ]
    }
   ],
   "source": [
    "dut_spi.write_single_wc()\n",
    "dut_spi.commit_w_addr0to15()"
   ]
  },
  {
   "cell_type": "code",
   "execution_count": 6,
   "metadata": {},
   "outputs": [
    {
     "name": "stdout",
     "output_type": "stream",
     "text": [
      "target addr: 18\n",
      " \n",
      "0 th bit\n",
      "enter the value (1,0):1\n",
      "1 th bit\n",
      "enter the value (1,0):0\n",
      "2 th bit\n",
      "enter the value (1,0):0\n",
      "3 th bit\n",
      "enter the value (1,0):0\n",
      "4 th bit\n",
      "enter the value (1,0):0\n",
      "5 th bit\n",
      "enter the value (1,0):0\n",
      "6 th bit\n",
      "enter the value (1,0):0\n",
      "7 th bit\n",
      "enter the value (1,0):0\n",
      " \n",
      "Addr: 18 || data:  10000000 sent\n"
     ]
    }
   ],
   "source": [
    "dut_spi.write_single_wc()"
   ]
  },
  {
   "cell_type": "code",
   "execution_count": null,
   "metadata": {},
   "outputs": [],
   "source": [
    "dut_spi.sel_io_50ohm() # select signal to plot by 50 ohm io "
   ]
  },
  {
   "cell_type": "code",
   "execution_count": null,
   "metadata": {},
   "outputs": [],
   "source": [
    "dut_spi.set_str_io_50ohm() #program 50ohm io pull down strength"
   ]
  },
  {
   "cell_type": "code",
   "execution_count": 13,
   "metadata": {},
   "outputs": [
    {
     "name": "stdout",
     "output_type": "stream",
     "text": [
      "Addr: 127 || data:  10000000 sent\n",
      "Addr: 127 || data:  00000000 sent\n"
     ]
    }
   ],
   "source": [
    "dut_spi.commit_w_addr0to15()"
   ]
  },
  {
   "cell_type": "markdown",
   "metadata": {},
   "source": [
    "# Temperature Sensor (TODO)"
   ]
  },
  {
   "cell_type": "code",
   "execution_count": null,
   "metadata": {},
   "outputs": [],
   "source": [
    "adt7430.rst()"
   ]
  },
  {
   "cell_type": "code",
   "execution_count": 10,
   "metadata": {},
   "outputs": [
    {
     "name": "stdout",
     "output_type": "stream",
     "text": [
      "enter operation mode (1: one-shot mode & 2: SPS mode: 2\n",
      "enter T_CRIT value: 100\n",
      "enter T_HYST value: 1\n",
      "enter Target temp.: 30\n",
      "enter temp. tolerance in celcius: 10\n",
      "Target T_HIGH:  35.0\n",
      "Target T_LOW:  25.0\n"
     ]
    }
   ],
   "source": [
    "adt7430.set_dev() ## deice setting"
   ]
  },
  {
   "cell_type": "code",
   "execution_count": 7,
   "metadata": {},
   "outputs": [
    {
     "name": "stdout",
     "output_type": "stream",
     "text": [
      "read ad7430 device id:  0xc3\n",
      "device reset success!\n",
      "enter read iteration numbers: 3\n",
      "enter time interval in sec: (>1s)1.1\n",
      "Current temperature: 23.50\n",
      "Current temperature: 23.49\n",
      "Current temperature: 23.45\n",
      "average temperature is: 23.48\n"
     ]
    }
   ],
   "source": [
    "adt7430.consecutive_read()"
   ]
  },
  {
   "cell_type": "markdown",
   "metadata": {},
   "source": [
    "## TCXO control"
   ]
  },
  {
   "cell_type": "code",
   "execution_count": 7,
   "metadata": {},
   "outputs": [
    {
     "name": "stdout",
     "output_type": "stream",
     "text": [
      "current status: 0 (1: on, 0: off)\n",
      "enter new status: 0\n",
      "current status: 0 (1: on, 0: off)\n"
     ]
    }
   ],
   "source": [
    "controls.tcxo()"
   ]
  },
  {
   "cell_type": "markdown",
   "metadata": {},
   "source": [
    "## Kvco Control"
   ]
  },
  {
   "cell_type": "code",
   "execution_count": 73,
   "metadata": {},
   "outputs": [
    {
     "name": "stdout",
     "output_type": "stream",
     "text": [
      "enter kvco value (0~8): 5\n",
      "Addr: 10 || data:  10100000 sent\n",
      "Addr: 127 || data:  10000000 sent\n",
      "Addr: 127 || data:  00000000 sent\n"
     ]
    }
   ],
   "source": [
    "controls.kvco()"
   ]
  },
  {
   "cell_type": "markdown",
   "metadata": {},
   "source": [
    "## Csw Control"
   ]
  },
  {
   "cell_type": "code",
   "execution_count": 6,
   "metadata": {},
   "outputs": [
    {
     "name": "stdout",
     "output_type": "stream",
     "text": [
      "enter csw value (0~20): 20\n",
      "debug [0, 0, 1, 0, 1]\n",
      "Addr: 11 || data:  00101000 sent\n",
      "Addr: 127 || data:  10000000 sent\n",
      "Addr: 127 || data:  00000000 sent\n"
     ]
    }
   ],
   "source": [
    "controls.csw()"
   ]
  },
  {
   "cell_type": "code",
   "execution_count": null,
   "metadata": {},
   "outputs": [],
   "source": []
  }
 ],
 "metadata": {
  "kernelspec": {
   "display_name": "Python 3",
   "language": "python",
   "name": "python3"
  },
  "language_info": {
   "codemirror_mode": {
    "name": "ipython",
    "version": 3
   },
   "file_extension": ".py",
   "mimetype": "text/x-python",
   "name": "python",
   "nbconvert_exporter": "python",
   "pygments_lexer": "ipython3",
   "version": "3.6.5"
  }
 },
 "nbformat": 4,
 "nbformat_minor": 2
}
