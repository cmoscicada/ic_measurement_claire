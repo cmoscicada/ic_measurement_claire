{
 "cells": [
  {
   "cell_type": "code",
   "execution_count": 1,
   "metadata": {},
   "outputs": [
    {
     "data": {
      "application/javascript": [
       "\n",
       "try {\n",
       "require(['notebook/js/codecell'], function(codecell) {\n",
       "  codecell.CodeCell.options_default.highlight_modes[\n",
       "      'magic_text/x-csrc'] = {'reg':[/^%%microblaze/]};\n",
       "  Jupyter.notebook.events.one('kernel_ready.Kernel', function(){\n",
       "      Jupyter.notebook.get_cells().map(function(cell){\n",
       "          if (cell.cell_type == 'code'){ cell.auto_highlight(); } }) ;\n",
       "  });\n",
       "});\n",
       "} catch (e) {};\n"
      ]
     },
     "metadata": {},
     "output_type": "display_data"
    },
    {
     "data": {
      "application/javascript": [
       "\n",
       "try {\n",
       "require(['notebook/js/codecell'], function(codecell) {\n",
       "  codecell.CodeCell.options_default.highlight_modes[\n",
       "      'magic_text/x-csrc'] = {'reg':[/^%%pybind11/]};\n",
       "  Jupyter.notebook.events.one('kernel_ready.Kernel', function(){\n",
       "      Jupyter.notebook.get_cells().map(function(cell){\n",
       "          if (cell.cell_type == 'code'){ cell.auto_highlight(); } }) ;\n",
       "  });\n",
       "});\n",
       "} catch (e) {};\n"
      ]
     },
     "metadata": {},
     "output_type": "display_data"
    }
   ],
   "source": [
    "from pynq import Overlay\n",
    "from pynq.lib import AxiGPIO\n",
    "ol = Overlay(\"./overlays/CICADA_N_CLAIRE.bit\")"
   ]
  },
  {
   "cell_type": "markdown",
   "metadata": {},
   "source": [
    "# My Functions"
   ]
  },
  {
   "cell_type": "code",
   "execution_count": 2,
   "metadata": {},
   "outputs": [],
   "source": [
    "import ldo\n",
    "import dut_spi\n",
    "import adt7430\n",
    "import initialize_ldo_claire01\n",
    "import ldo_claire01\n"
   ]
  },
  {
   "cell_type": "markdown",
   "metadata": {},
   "source": [
    "## Query Custom Overlay Info."
   ]
  },
  {
   "cell_type": "code",
   "execution_count": 3,
   "metadata": {},
   "outputs": [],
   "source": [
    "ol?"
   ]
  },
  {
   "cell_type": "markdown",
   "metadata": {},
   "source": [
    "## Initialization (LDO, DUT SPI)"
   ]
  },
  {
   "cell_type": "code",
   "execution_count": 11,
   "metadata": {},
   "outputs": [],
   "source": [
    "initialize_ldo_claire01.all_zero()"
   ]
  },
  {
   "cell_type": "code",
   "execution_count": 13,
   "metadata": {},
   "outputs": [
    {
     "name": "stdout",
     "output_type": "stream",
     "text": [
      "Target board: 0  ||Addr.: 0  ||Voltage: 100.0 mV\n",
      "Target board: 0  ||Addr.: 1  ||Voltage: 400.0 mV\n",
      "Target board: 0  ||Addr.: 2  ||Voltage: 400.0 mV\n",
      "Target board: 0  ||Addr.: 3  ||Voltage: 2500.0 mV\n",
      "WARINING: input voltage EXCEEDS the VREF level of the ldo board!\n",
      "Target board: 0  ||Addr.: 4  ||Voltage: 400.0 mV\n",
      "Target board: 0  ||Addr.: 5  ||Voltage: 400.0 mV\n",
      "Target board: 0  ||Addr.: 6  ||Voltage: 400.0 mV\n",
      "Target board: 0  ||Addr.: 7  ||Voltage: 400.0 mV\n",
      "Target board: 1  ||Addr.: 0  ||Voltage: 400.0 mV\n",
      "Target board: 1  ||Addr.: 1  ||Voltage: 400.0 mV\n",
      "Target board: 1  ||Addr.: 2  ||Voltage: 400.0 mV\n",
      "Target board: 1  ||Addr.: 3  ||Voltage: 400.0 mV\n",
      "Target board: 1  ||Addr.: 4  ||Voltage: 400.0 mV\n",
      "Target board: 1  ||Addr.: 5  ||Voltage: 400.0 mV\n",
      "Target board: 1  ||Addr.: 6  ||Voltage: 300.0 mV\n",
      "Target board: 1  ||Addr.: 7  ||Voltage: 1000.0 mV\n"
     ]
    }
   ],
   "source": [
    "initialize_ldo_claire01.initialize_ldo() "
   ]
  },
  {
   "cell_type": "markdown",
   "metadata": {},
   "source": [
    "## LDO Modification with command "
   ]
  },
  {
   "cell_type": "code",
   "execution_count": 3,
   "metadata": {},
   "outputs": [
    {
     "name": "stdout",
     "output_type": "stream",
     "text": [
      "target brd number (0 ~ 3): 0\n",
      "target addr.: 0\n",
      "target voltage(e.g. 400.1mV --> 400.1: 400\n",
      "dac packet: 3156238\n",
      "dac packet in Hex: 30290E\n"
     ]
    }
   ],
   "source": [
    "ldo.ldo_w_single_wc() # ldo write with command"
   ]
  },
  {
   "cell_type": "code",
   "execution_count": 12,
   "metadata": {},
   "outputs": [
    {
     "name": "stdout",
     "output_type": "stream",
     "text": [
      "Current voltage: 0.000mV   [brd num: 1 & addr.: 1]\n"
     ]
    },
    {
     "data": {
      "text/plain": [
       "0.0"
      ]
     },
     "execution_count": 12,
     "metadata": {},
     "output_type": "execute_result"
    }
   ],
   "source": [
    "ldo.read_single(1,1) #board0 addr0"
   ]
  },
  {
   "cell_type": "code",
   "execution_count": 15,
   "metadata": {},
   "outputs": [
    {
     "name": "stdout",
     "output_type": "stream",
     "text": [
      "CLAIRE01: Target Info.\n",
      "0)VCTL_KVCO_BASE 1)VDD_A_GL 2)VDDA_LDS 3)VDD_CHOP 4)VDD_CP 5)VDD \n",
      "6)VDD_DIV_LOGIC 7)VDD_BBPFD 8)VDD_DIV_LOGIC_TEST 9)VDD_GVCO_FIC 10)VDD_GVCO_CTAT\n",
      "11)VDD_CORE_DBUF 12)VDD03_TEST 13)VDD10_TEST\n",
      "Choose the target (0 ~ 13): 0\n",
      "\n",
      "Current voltage: 49.968mV   [brd num: 0 & addr.: 0]\n",
      "Current VCTL_KVCO_BASE value: 49.968mV\n",
      "Target voltage (e.g. 400.01 ==> 400.01mV): 100\n"
     ]
    }
   ],
   "source": [
    "ldo_claire01.change_core_supply_command()"
   ]
  },
  {
   "cell_type": "markdown",
   "metadata": {},
   "source": [
    "## SPI Modification with command"
   ]
  },
  {
   "cell_type": "code",
   "execution_count": 3,
   "metadata": {},
   "outputs": [],
   "source": [
    "dut_spi.rst()"
   ]
  },
  {
   "cell_type": "code",
   "execution_count": 4,
   "metadata": {},
   "outputs": [
    {
     "name": "stdout",
     "output_type": "stream",
     "text": [
      "Addr: 11 || data:  00011001 sent\n"
     ]
    }
   ],
   "source": [
    "dut_spi.write_single(11,0,0,0,1,1,0,0,1)"
   ]
  },
  {
   "cell_type": "code",
   "execution_count": 6,
   "metadata": {},
   "outputs": [
    {
     "name": "stdout",
     "output_type": "stream",
     "text": [
      "target read addr.:10\n",
      "\n",
      "Addr: 10 || data:  00000000 read\n"
     ]
    },
    {
     "data": {
      "text/plain": [
       "'0b0'"
      ]
     },
     "execution_count": 6,
     "metadata": {},
     "output_type": "execute_result"
    }
   ],
   "source": [
    "dut_spi.read_wc()"
   ]
  },
  {
   "cell_type": "code",
   "execution_count": 8,
   "metadata": {},
   "outputs": [
    {
     "name": "stdout",
     "output_type": "stream",
     "text": [
      "target addr: 0\n",
      " \n",
      "0 th bit\n",
      "enter the value (1,0):1\n",
      "1 th bit\n",
      "enter the value (1,0):0\n",
      "2 th bit\n",
      "enter the value (1,0):1\n",
      "3 th bit\n",
      "enter the value (1,0):1\n",
      "4 th bit\n",
      "enter the value (1,0):1\n",
      "5 th bit\n",
      "enter the value (1,0):1\n",
      "6 th bit\n",
      "enter the value (1,0):1\n",
      "7 th bit\n",
      "enter the value (1,0):1\n",
      " \n",
      "Addr: 0 || data:  10111111 sent\n"
     ]
    }
   ],
   "source": [
    "dut_spi.write_single_wc()"
   ]
  },
  {
   "cell_type": "markdown",
   "metadata": {},
   "source": [
    "# Temperature Sensor (TODO)"
   ]
  },
  {
   "cell_type": "code",
   "execution_count": 3,
   "metadata": {},
   "outputs": [
    {
     "name": "stdout",
     "output_type": "stream",
     "text": [
      "read ad7430 device id:  0xc3\n",
      "device reset success!\n"
     ]
    }
   ],
   "source": [
    "adt7430.rst()"
   ]
  },
  {
   "cell_type": "code",
   "execution_count": 7,
   "metadata": {},
   "outputs": [
    {
     "name": "stdout",
     "output_type": "stream",
     "text": [
      "enter operation mode (1: one-shot mode & 2: SPS mode: 2\n",
      "enter T_CRIT value: 100\n",
      "enter T_HYST value: 0\n",
      "enter Target temp.: 25\n",
      "enter temp. tolerance in celcius: 0.5\n"
     ]
    }
   ],
   "source": [
    "adt7430.set_dev() ## deice setting"
   ]
  },
  {
   "cell_type": "code",
   "execution_count": 4,
   "metadata": {},
   "outputs": [
    {
     "name": "stdout",
     "output_type": "stream",
     "text": [
      "read ad7430 device id:  0xc3\n",
      "device reset success!\n",
      "enter read iteration numbers: 10\n",
      "enter time interval in sec: (>1s)1.8\n",
      "Current temperature: 26.30\n",
      "Current temperature: 26.30\n",
      "Current temperature: 26.23\n",
      "Current temperature: 26.14\n",
      "Current temperature: 26.05\n",
      "Current temperature: 25.99\n",
      "Current temperature: 26.00\n",
      "Current temperature: 25.96\n",
      "Current temperature: 25.95\n",
      "Current temperature: 25.90\n",
      "average temperature is:  26.0828125\n"
     ]
    }
   ],
   "source": [
    "adt7430.consecutive_read()"
   ]
  },
  {
   "cell_type": "code",
   "execution_count": null,
   "metadata": {},
   "outputs": [],
   "source": []
  }
 ],
 "metadata": {
  "kernelspec": {
   "display_name": "Python 3",
   "language": "python",
   "name": "python3"
  },
  "language_info": {
   "codemirror_mode": {
    "name": "ipython",
    "version": 3
   },
   "file_extension": ".py",
   "mimetype": "text/x-python",
   "name": "python",
   "nbconvert_exporter": "python",
   "pygments_lexer": "ipython3",
   "version": "3.6.5"
  }
 },
 "nbformat": 4,
 "nbformat_minor": 2
}
